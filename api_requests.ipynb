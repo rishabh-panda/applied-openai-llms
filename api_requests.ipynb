{
  "nbformat": 4,
  "nbformat_minor": 0,
  "metadata": {
    "colab": {
      "provenance": []
    },
    "kernelspec": {
      "name": "python3",
      "display_name": "Python 3"
    },
    "language_info": {
      "name": "python"
    }
  },
  "cells": [
    {
      "cell_type": "markdown",
      "source": [
        "**Making requests to the OpenAI API**"
      ],
      "metadata": {
        "id": "1dIvfRFmxAGx"
      }
    },
    {
      "cell_type": "code",
      "source": [
        "!pip install openai"
      ],
      "metadata": {
        "id": "_oYZ7JXbBQK9"
      },
      "execution_count": null,
      "outputs": []
    },
    {
      "cell_type": "code",
      "source": [
        "from openai import OpenAI\n",
        "\n",
        "client = OpenAI(\n",
        "    api_key=\"Paste your OpenAI API key here.\"\n",
        ")\n",
        "\n",
        "response = client.chat.completions.create(\n",
        "    model=\"gpt-4o\",\n",
        "    messages=[\n",
        "        {\"role\": \"user\", \"content\": \"What is the capital of France?\"}\n",
        "    ]\n",
        ")\n",
        "\n",
        "print(response.choices[0].message.content)"
      ],
      "metadata": {
        "id": "A7OAi9-cijSQ"
      },
      "execution_count": null,
      "outputs": []
    },
    {
      "cell_type": "code",
      "source": [
        "# Accessing API key from the Secrets Vault\n",
        "\n",
        "from openai import OpenAI\n",
        "from google.colab import userdata\n",
        "\n",
        "client = OpenAI(\n",
        "    api_key=userdata.get('openai_api_key')\n",
        "    )\n",
        "\n",
        "response = client.chat.completions.create(\n",
        "    model=\"gpt-4o\",\n",
        "    messages=[\n",
        "         {\"role\": \"system\", \"content\": \"You are a helpful assistant who provides responses in one-word.\"},     # Set the tone and persona\n",
        "         {\"role\": \"user\",   \"content\": \"What is the capital of France?\"},                                      # Provide the base AI-prompt\n",
        "    ]\n",
        ")\n",
        "\n",
        "print(response)"
      ],
      "metadata": {
        "id": "mp4jZNjVwFUe"
      },
      "execution_count": null,
      "outputs": []
    },
    {
      "cell_type": "code",
      "source": [
        "print(response.choices[0])"
      ],
      "metadata": {
        "id": "a0mq6AH6V-MZ"
      },
      "execution_count": null,
      "outputs": []
    },
    {
      "cell_type": "code",
      "source": [
        "print(response.choices[0].message)"
      ],
      "metadata": {
        "id": "LU4YnMM6V-Ox"
      },
      "execution_count": null,
      "outputs": []
    },
    {
      "cell_type": "code",
      "source": [
        "print(response.choices[0].message.content)"
      ],
      "metadata": {
        "id": "4Snt5hwRV_qc"
      },
      "execution_count": null,
      "outputs": []
    },
    {
      "cell_type": "markdown",
      "source": [
        "**Exercise 1. Low complexity use-case: AI-enabled brand extraction**"
      ],
      "metadata": {
        "id": "_n6wNsU8zREm"
      }
    },
    {
      "cell_type": "code",
      "source": [
        "import pandas as pd\n",
        "from openai import OpenAI\n",
        "from google.colab import userdata\n",
        "\n",
        "client = OpenAI(\n",
        "    api_key=userdata.get('openai_api_key')\n",
        "    )\n",
        "\n",
        "# Read the raw .csv file\n",
        "brand_data = pd.read_csv('brand_data.csv')\n",
        "\n",
        "# Function to extract brand name from description\n",
        "def extract_brand_name(description):\n",
        "    response = client.chat.completions.create(\n",
        "        model=\"gpt-4o\",\n",
        "        messages=[\n",
        "            {\"role\": \"system\", \"content\": \"You are a helpful assistant who provides responses in a single word.\"},\n",
        "            {\"role\": \"user\", \"content\": f\"Extract the brand name from the following description {description}\"}\n",
        "        ]\n",
        "    )\n",
        "    return response.choices[0].message.content\n",
        "\n",
        "# Apply the function to the 'Brand Description' column\n",
        "brand_data['Brand Name'] = brand_data['Brand Description'].apply(extract_brand_name)\n",
        "\n",
        "brand_data"
      ],
      "metadata": {
        "id": "ikAMyNdFAIPe"
      },
      "execution_count": null,
      "outputs": []
    },
    {
      "cell_type": "markdown",
      "source": [
        "**Exercise 2. Medium complexity use-case: Tracking character length using loop**"
      ],
      "metadata": {
        "id": "PDyqEjwLzQ5Z"
      }
    },
    {
      "cell_type": "code",
      "source": [
        "import pandas as pd\n",
        "from openai import OpenAI\n",
        "from google.colab import userdata\n",
        "\n",
        "client = OpenAI(\n",
        "    api_key=userdata.get('openai_api_key')\n",
        "    )\n",
        "\n",
        "# Read the raw .csv file\n",
        "brand_data = pd.read_csv('brand_data.csv')\n",
        "\n",
        "# Function to count characters in brand description\n",
        "def count_description_characters(description):\n",
        "  response = client.chat.completions.create(\n",
        "      model=\"gpt-4o\",\n",
        "      messages=[\n",
        "            {\"role\": \"system\", \"content\": \"You are a helpful assistant who provides single-word responses by presenting numerical data in a comma-separated format to ensure readability.\"},\n",
        "            {\"role\": \"user\", \"content\": f\"Count the number of characters in the following description {description}\"}\n",
        "        ]\n",
        "      )\n",
        "  return response.choices[0].message.content\n",
        "\n",
        "# List to hold the brand names\n",
        "brand_names = []\n",
        "\n",
        "# Loop through each description in the DataFrame\n",
        "for description in brand_data['Brand Description']:\n",
        "    # Count the characters for each description and append to list\n",
        "    brand_name = count_description_characters(description)\n",
        "    brand_names.append(brand_name)\n",
        "\n",
        "# Add the list of brand names as a new column in the DataFrame\n",
        "brand_data['Character Count'] = brand_names\n",
        "\n",
        "brand_data"
      ],
      "metadata": {
        "id": "ntK9OfHvzPex"
      },
      "execution_count": null,
      "outputs": []
    },
    {
      "cell_type": "markdown",
      "source": [
        "**Exercise 3. High complexity use-case: Analyzing base64 encoded promotions dashboard using OpenAI Vision to generate business report**"
      ],
      "metadata": {
        "id": "i9lQOh5nJ8Tg"
      }
    },
    {
      "cell_type": "code",
      "source": [
        "import pandas as pd\n",
        "from openai import OpenAI\n",
        "from google.colab import userdata\n",
        "import base64\n",
        "\n",
        "client = OpenAI(\n",
        "    api_key=userdata.get('openai_api_key')\n",
        "    )\n",
        "\n",
        "# Function to encode the image\n",
        "def encode_image(image_path):\n",
        "    with open(image_path, \"rb\") as image_file:\n",
        "        return base64.b64encode(image_file.read()).decode(\"utf-8\")\n",
        "\n",
        "\n",
        "# Path to your image\n",
        "image_path = \"/content/retail_dashboard_promos.jpg\"\n",
        "\n",
        "# Getting the Base64 string\n",
        "base64_image = encode_image(image_path)\n",
        "\n",
        "system_prompt = \"\"\"\n",
        "\n",
        "Act as a business analyst having specialization in the Retail domain.\n",
        "\n",
        "\"\"\"\n",
        "\n",
        "user_prompt = \"\"\"\n",
        "\n",
        "Prompt: Analyze the attached promotional analysis dashboard image and provide a detailed report.\n",
        "Explain the performance trends, identify key insights on product sales and promotions,\n",
        "and suggest potential business actions based on the data observed.\n",
        "\n",
        "Additional Context:\n",
        "- The main focus is to understand how promotions impact sales volume and stock availability.\n",
        "- Structure the results properly separating each section to improve readability.\n",
        "- Tabulate information wherever applicable.\n",
        "\n",
        "\"\"\"\n",
        "\n",
        "response = client.chat.completions.create(\n",
        "    model=\"o1\",\n",
        "    messages=[\n",
        "        {\n",
        "            \"role\": \"system\",\n",
        "            \"content\": system_prompt,\n",
        "        },\n",
        "        {\n",
        "            \"role\": \"user\",\n",
        "            \"content\": [\n",
        "                {\n",
        "                    \"type\": \"text\",\n",
        "                    \"text\": user_prompt,\n",
        "                },\n",
        "                {\n",
        "                    \"type\": \"image_url\",\n",
        "                    \"image_url\": {\"url\": f\"data:image/jpeg;base64,{base64_image}\"},\n",
        "                },\n",
        "            ],\n",
        "        }\n",
        "    ],\n",
        ")\n",
        "\n",
        "print(response.choices[0].message.content)"
      ],
      "metadata": {
        "id": "xfRIyqSbChuz"
      },
      "execution_count": null,
      "outputs": []
    },
    {
      "cell_type": "markdown",
      "source": [
        "**AI Model: o3-mini (Property: Function calling)**"
      ],
      "metadata": {
        "id": "xQ7Fd4GQ39Aw"
      }
    },
    {
      "cell_type": "code",
      "source": [
        "import json  # Needed to parse the JSON string from the API\n",
        "from openai import OpenAI\n",
        "from google.colab import userdata\n",
        "\n",
        "# Initialize OpenAI client\n",
        "client = OpenAI(api_key=userdata.get('openai_api_key'))\n",
        "\n",
        "# Define the function that we want the model to call\n",
        "def operator_func(a: int, b: int) -> int:\n",
        "    return a**2 + b**2  # Function logic (squaring and adding two numbers)\n",
        "\n",
        "# Define function calling\n",
        "functions = [\n",
        "    {\n",
        "        \"name\": \"operator_func\",\n",
        "        \"description\": \"Calculates the sum of squares of two numbers.\",\n",
        "        \"parameters\": {\n",
        "            \"type\": \"object\",\n",
        "            \"properties\": {\n",
        "                \"a\": {\"type\": \"integer\", \"description\": \"First number\"},\n",
        "                \"b\": {\"type\": \"integer\", \"description\": \"Second number\"},\n",
        "            },\n",
        "            \"required\": [\"a\", \"b\"],\n",
        "        },\n",
        "    }\n",
        "]\n",
        "\n",
        "# Send request with function calling enabled\n",
        "response = client.chat.completions.create(\n",
        "    model=\"o3-mini\",\n",
        "    messages=[{\"role\": \"user\", \"content\": \"What is the result when a=2 and b=4 are fed into operator_func()?\"}],\n",
        "    functions=functions,\n",
        "    function_call=\"auto\"  # Allow model to call functions\n",
        ")\n",
        "\n",
        "# Extract function call arguments\n",
        "if response.choices[0].message.function_call:\n",
        "    function_name = response.choices[0].message.function_call.name\n",
        "    arguments_json = response.choices[0].message.function_call.arguments  # This is a string\n",
        "\n",
        "    # Convert string to dictionary\n",
        "    arguments = json.loads(arguments_json)\n",
        "\n",
        "    if function_name == \"operator_func\":\n",
        "        result = operator_func(**arguments)  # Arguments is a dictionary\n",
        "        print(f\"Function Output: {result}\")\n",
        "    else:\n",
        "        print(\"Unexpected function call\")\n",
        "else:\n",
        "    print(\"No function call detected.\")"
      ],
      "metadata": {
        "colab": {
          "base_uri": "https://localhost:8080/"
        },
        "id": "06TGkxfLz5rv",
        "outputId": "65608e5a-7c19-41bc-b3e3-84e41e46a996"
      },
      "execution_count": null,
      "outputs": [
        {
          "output_type": "stream",
          "name": "stdout",
          "text": [
            "Function Output: 20\n"
          ]
        }
      ]
    },
    {
      "cell_type": "markdown",
      "source": [
        "**AI Model: o3-mini (Property: Structured output)**"
      ],
      "metadata": {
        "id": "2I1wH1xh61Gr"
      }
    },
    {
      "cell_type": "code",
      "source": [
        "import json  # Needed to parse the JSON string from the API\n",
        "from openai import OpenAI\n",
        "from google.colab import userdata\n",
        "\n",
        "# Initialize OpenAI client\n",
        "client = OpenAI(api_key=userdata.get('openai_api_key'))\n",
        "\n",
        "# Define the desired output structure with 'additionalProperties': false\n",
        "response_format = {\n",
        "    \"type\": \"json_schema\",\n",
        "    \"json_schema\": {\n",
        "        \"name\": \"math_solution\",\n",
        "        \"schema\": {\n",
        "            \"type\": \"object\",\n",
        "            \"properties\": {\n",
        "                \"steps\": {\n",
        "                    \"type\": \"array\",\n",
        "                    \"items\": {\n",
        "                        \"type\": \"object\",\n",
        "                        \"properties\": {\n",
        "                            \"explanation\": {\"type\": \"string\"},\n",
        "                            \"equation\": {\"type\": \"string\"},\n",
        "                        },\n",
        "                        \"required\": [\"explanation\", \"equation\"],\n",
        "                        \"additionalProperties\": False  # Ensures no extra properties\n",
        "                    },\n",
        "                },\n",
        "                \"final_answer\": {\"type\": \"string\"},\n",
        "            },\n",
        "            \"required\": [\"steps\", \"final_answer\"],\n",
        "            \"additionalProperties\": False  # Required to prevent unknown properties\n",
        "        },\n",
        "        \"strict\": True,\n",
        "    },\n",
        "}\n",
        "\n",
        "# Ask the model to solve a math problem\n",
        "response = client.chat.completions.create(\n",
        "    model=\"o3-mini\",\n",
        "    messages=[{\"role\": \"user\", \"content\": \"Solve 2x + 3 = 7\"}],\n",
        "    response_format=response_format\n",
        ")\n",
        "\n",
        "print(response.choices[0].message.content)"
      ],
      "metadata": {
        "colab": {
          "base_uri": "https://localhost:8080/"
        },
        "id": "lRpg6fjv5pom",
        "outputId": "ac961bb5-9801-4f5f-bdd4-3a6dc2080785"
      },
      "execution_count": null,
      "outputs": [
        {
          "output_type": "stream",
          "name": "stdout",
          "text": [
            "{\n",
            "  \"steps\": [\n",
            "    {\n",
            "      \"explanation\": \"Subtract 3 from both sides.\",\n",
            "      \"equation\": \"2x = 7 - 3\"\n",
            "    },\n",
            "    {\n",
            "      \"explanation\": \"Simplify the right side.\",\n",
            "      \"equation\": \"2x = 4\"\n",
            "    },\n",
            "    {\n",
            "      \"explanation\": \"Divide both sides by 2.\",\n",
            "      \"equation\": \"x = 2\"\n",
            "    }\n",
            "  ],\n",
            "  \"final_answer\": \"x = 2\"\n",
            "}\n"
          ]
        }
      ]
    },
    {
      "cell_type": "markdown",
      "source": [
        "**AI Model: o3-mini (Property: Developer messages)**"
      ],
      "metadata": {
        "id": "F0cTflP374Xh"
      }
    },
    {
      "cell_type": "code",
      "source": [
        "import json  # Needed to parse the JSON string from the API\n",
        "from openai import OpenAI\n",
        "from google.colab import userdata\n",
        "\n",
        "# Initialize OpenAI client\n",
        "client = OpenAI(api_key=userdata.get('openai_api_key'))\n",
        "\n",
        "# Developer message: Ensure AI asks for required data before suggesting pricing\n",
        "developer_message = {\n",
        "    \"role\": \"developer\",\n",
        "    \"content\": (\n",
        "        \"Before providing a pricing recommendation, ALWAYS ask for the following details if they are missing:\"\n",
        "        \"\\n1. Product category (e.g., electronics, apparel, groceries)\"\n",
        "        \"\\n2. Current inventory levels\"\n",
        "        \"\\n3. Competitor pricing (if available)\"\n",
        "        \"\\nIf the user doesn’t provide these, ask follow-up questions first before making a suggestion.\"\n",
        "    )\n",
        "}\n",
        "\n",
        "# Send request with function calling enabled\n",
        "response = client.chat.completions.create(\n",
        "    model=\"o3-mini\",\n",
        "    messages=[\n",
        "        developer_message,\n",
        "        {\"role\": \"user\", \"content\": \"Should I discount my products this month?\"}\n",
        "    ],\n",
        ")\n",
        "\n",
        "print(response.choices[0].message.content)"
      ],
      "metadata": {
        "colab": {
          "base_uri": "https://localhost:8080/"
        },
        "id": "nOz3sEvZ7Bgh",
        "outputId": "a6a726bd-34c0-4407-e669-ba04038fa74e"
      },
      "execution_count": null,
      "outputs": [
        {
          "output_type": "stream",
          "name": "stdout",
          "text": [
            "Before providing a pricing recommendation, could you please provide a few additional details?\n",
            "\n",
            "1. What is the product category (e.g., electronics, apparel, groceries)?\n",
            "2. What are your current inventory levels?\n",
            "3. Do you have any information on competitor pricing?\n",
            "\n",
            "These details will help me offer a more tailored recommendation for your situation.\n"
          ]
        }
      ]
    }
  ]
}